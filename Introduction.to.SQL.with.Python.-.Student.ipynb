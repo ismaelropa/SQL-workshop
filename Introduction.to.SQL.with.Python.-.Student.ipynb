{
 "cells": [
  {
   "cell_type": "markdown",
   "metadata": {},
   "source": [
    "### In this notebook we'll go over a brief introduction to the structure of the Sakila Database and setting up SQL in your Python Environment.\n",
    "#### DISCLAIMER:\n",
    "______________________________________________________________________________________________________\n",
    "There are many ways to browse through a SQL database, throughout this workshop we are going to be focusing on learning about SQL queries using a combination of Python, SQLite, and pandas. Please note that this is a pretty specific way of operating with a SQL Database, and may or may not fit other general needs. The primary goal of this section is to teach you how to use SQL queries to grab information and set it as a pandas DataFrame. We will not be going over more general topics of relational databases, MySQL, or using a SQL console directly.\n",
    "\n",
    "______________________________________________________________________________________________________\n",
    "\n",
    "#### Step 1: Download SQL Alchemy\n",
    "To start this appendix, download SQLAlchemy. You can do this by either downloading it\n",
    "by typing conda install sqlalchemy if you are using the Anaconda installation of Python.\n",
    "\n",
    "#### Step 2: Download SQLite Broswer\n",
    "Next up we will download a sql browser. We will be using SQLite Browser because it is lightweight and free to use.\n",
    "\n",
    "Download SQLite Browser here: http://sqlitebrowser.org/\n",
    "\n",
    "#### Step 3: Download the sakila Database\n",
    "You can download the fully constructed database here\n",
    "\n",
    "https://www.dropbox.com/s/6pz7vkl5c32xujt/sakila.db?dl=0\n",
    "\n",
    "Make sure to save it in the same directory as your iPython notebooks, or remember the file path for later so we can tell pandas exactly where to look for it.\n",
    "\n",
    "#### All done! Now let's look at the database before diving into how to work with it in Python.\n",
    "Check out the database either by opening it up using SQLite Browser or by checking out the diagram at this link: https://vladlight.files.wordpress.com/2012/12/sakilaerm.png\n"
   ]
  },
  {
   "cell_type": "code",
   "execution_count": null,
   "metadata": {
    "collapsed": false
   },
   "outputs": [],
   "source": []
  },
  {
   "cell_type": "markdown",
   "metadata": {},
   "source": [
    "Now that we have seen an overview of what the database looks like, let's go ahead and learn how to communicate with it with Python and pandas.\n",
    "\n",
    "Python comes with SQLite3, which provides a lightweight disk-based database that doesn't require a seperate server process. It's useful to prototype with SQLite and then port the code to a larger database system, like MySQL. Python comes with a module to connect to a SQL database with SQLite. The module is SQLite3, let's go ahead and import it (and pandas as well)."
   ]
  },
  {
   "cell_type": "code",
   "execution_count": null,
   "metadata": {
    "collapsed": true
   },
   "outputs": [],
   "source": []
  },
  {
   "cell_type": "markdown",
   "metadata": {},
   "source": [
    "To use the module, you must first create a Connection object that represents the database. If the database name already exists SQLite3 will automatically connect to it, if it does not exsist, SQLite3 will automatically create.\n",
    "\n",
    "Let's make the connection!"
   ]
  },
  {
   "cell_type": "code",
   "execution_count": null,
   "metadata": {
    "collapsed": true
   },
   "outputs": [],
   "source": []
  },
  {
   "cell_type": "code",
   "execution_count": null,
   "metadata": {
    "collapsed": false
   },
   "outputs": [],
   "source": []
  },
  {
   "cell_type": "markdown",
   "metadata": {},
   "source": [
    "### SQL SELECT Statement\n",
    "The SELECT statement is used to select data from a database. The result is then stored in a result table, sometimes called the result-set.\n",
    "\n",
    "### Syntax for SQL SELECT\n",
    "SELECT column_name FROM table_name\n",
    "\n",
    "We could also select multiple columns:\n",
    "\n",
    "SELECT column_name1,column_name2 \n",
    "FROM table_name\n",
    "\n",
    "Or we could select everything in a table using *\n",
    "\n",
    "SELECT * FROM table_name\n",
    "\n",
    "To see how this and multiple other queries work, we'll connect to the database and make a function that automatically takes in our query and returns a DataFrame."
   ]
  },
  {
   "cell_type": "code",
   "execution_count": null,
   "metadata": {
    "collapsed": true
   },
   "outputs": [],
   "source": []
  },
  {
   "cell_type": "markdown",
   "metadata": {},
   "source": [
    "#### Selecting Multiple Columns"
   ]
  },
  {
   "cell_type": "code",
   "execution_count": null,
   "metadata": {
    "collapsed": false
   },
   "outputs": [],
   "source": []
  },
  {
   "cell_type": "markdown",
   "metadata": {},
   "source": [
    "#### Selecting Everything from table with *"
   ]
  },
  {
   "cell_type": "code",
   "execution_count": null,
   "metadata": {
    "collapsed": false
   },
   "outputs": [],
   "source": []
  },
  {
   "cell_type": "markdown",
   "metadata": {},
   "source": [
    "### Syntax for the SQL DISTINCT Statement\n",
    "\n",
    "In a table, a column may contain duplicate values; and sometimes you only want to list the distinct (unique) values. The DISTINCT keyword can be used to return only distinct (unique) values.\n",
    "\n",
    "SELECT DISTINCT column_name\n",
    "FROM table_name;"
   ]
  },
  {
   "cell_type": "code",
   "execution_count": null,
   "metadata": {
    "collapsed": false
   },
   "outputs": [],
   "source": []
  },
  {
   "cell_type": "markdown",
   "metadata": {},
   "source": [
    "### Syntax for the SQL WHERE\n",
    "\n",
    "The WHERE clause is used to filter records, and is used to extract only the records that fulfill the specific parameter.\n",
    "\n",
    "SELECT column_name\n",
    "FROM table_name\n",
    "WHERE column_name (math operator) desired_value;"
   ]
  },
  {
   "cell_type": "code",
   "execution_count": null,
   "metadata": {
    "collapsed": false
   },
   "outputs": [],
   "source": []
  },
  {
   "cell_type": "markdown",
   "metadata": {},
   "source": [
    "Note, there are a variety of logical operators you can use for a SQL request.\n",
    "\n",
    "\n",
    "\n",
    "<table>\n",
    "<tr>\n",
    "<th>Operator</th>\n",
    "<th>Description</th>\n",
    "</tr>\n",
    "<tr>\n",
    "<td>%</td>\n",
    "<td> Equal</td>\n",
    "</tr>\n",
    "<tr>\n",
    "<td><></td>\n",
    "<td>Not equal. Note: In some versions of SQL this operator may be written  !=</td>\n",
    "</tr>\n",
    "<tr>\n",
    "<td>></td>\n",
    "<td> Greater than</td>\n",
    "</tr>\n",
    "<tr>\n",
    "<td><</td>\n",
    "<td> Less than\n",
    "</td>\n",
    "</tr>\n",
    "<tr>\n",
    "<td>>=</td>\n",
    "<td> Greater than or equal</td>\n",
    "</tr>\n",
    "<tr>\n",
    "<td><=</td>\n",
    "<td> Less than or equal</td>\n",
    "</tr>\n",
    "</table>\n",
    "\n",
    "SQL requires single quotes around text values, while numeric fields are not enclosed in quotes."
   ]
  },
  {
   "cell_type": "code",
   "execution_count": null,
   "metadata": {
    "collapsed": false
   },
   "outputs": [],
   "source": []
  },
  {
   "cell_type": "markdown",
   "metadata": {},
   "source": [
    "### Syntax for AND\n",
    "\n",
    "The AND operator is used to filter records based on more than one condition.\n",
    "\n",
    "The AND operator displays a record if both the first condition AND the second condition are true."
   ]
  },
  {
   "cell_type": "code",
   "execution_count": null,
   "metadata": {
    "collapsed": false
   },
   "outputs": [],
   "source": []
  },
  {
   "cell_type": "markdown",
   "metadata": {},
   "source": [
    "### Syntax for OR\n",
    "\n",
    "The OR operator displays a record if either the first condition OR the second condition is true."
   ]
  },
  {
   "cell_type": "code",
   "execution_count": null,
   "metadata": {
    "collapsed": false
   },
   "outputs": [],
   "source": []
  },
  {
   "cell_type": "markdown",
   "metadata": {},
   "source": [
    "Before we begin with Wildcards, ORDER BY, and GROUP BY. Let's take a look at aggregate functions.\n",
    "\n",
    "* AVG() - Returns the average value.\n",
    "* COUNT() - Returns the number of rows.\n",
    "* FIRST() - Returns the first value.\n",
    "* LAST() - Returns the last value.\n",
    "* MAX() - Returns the largest value.\n",
    "* MIN() - Returns the smallest value.\n",
    "* SUM() - Returns the sum.\n",
    "\n",
    "You can call any of these aggregate functions on a column to get the resulting values back. For example:"
   ]
  },
  {
   "cell_type": "code",
   "execution_count": null,
   "metadata": {
    "collapsed": false
   },
   "outputs": [],
   "source": []
  },
  {
   "cell_type": "markdown",
   "metadata": {},
   "source": [
    "The usual syntax is:\n",
    "\n",
    "SELECT column_name, aggregate_function(column_name) <br/>\n",
    "FROM table_name <br/>\n",
    "WHERE column_name"
   ]
  },
  {
   "cell_type": "markdown",
   "metadata": {},
   "source": [
    "## SQL Wildcards\n",
    "\n",
    "A wildcard character can be used to substitute for any other characters in a string. In SQL, wildcard characters are used with the SQL LIKE operator. The LIKE operator is used in a WHERE clause to search for a specified pattern in a column.\n",
    "\n",
    "There are several wildcard operators:"
   ]
  },
  {
   "cell_type": "markdown",
   "metadata": {},
   "source": [
    "<table>\n",
    "<tr>\n",
    "<th>Wildcard</th>\n",
    "<th>Description</th>\n",
    "</tr>\n",
    "<tr>\n",
    "<td>%</td>\n",
    "<td>A substitute for zero or more characters</td>\n",
    "</tr>\n",
    "<tr>\n",
    "<td>_</td>\n",
    "<td>A substitute for a single character</td>\n",
    "</tr>\n",
    "<tr>\n",
    "<td>[character_list]</td>\n",
    "<td>Sets and ranges of characters to match</td>\n",
    "</tr>\n",
    "</table>"
   ]
  },
  {
   "cell_type": "code",
   "execution_count": null,
   "metadata": {
    "collapsed": false
   },
   "outputs": [],
   "source": []
  },
  {
   "cell_type": "code",
   "execution_count": null,
   "metadata": {
    "collapsed": false
   },
   "outputs": [],
   "source": []
  },
  {
   "cell_type": "markdown",
   "metadata": {},
   "source": [
    "Now we will move on to the [Character_list] wildcard. \n",
    "### IMPORTANT NOTE!\n",
    "Using [charlist] with SQLite is a little different than with other SQL formats, such as MySQL. \n",
    "\n",
    "In MySQL you would use: \n",
    "\n",
    "WHERE value LIKE '[charlist]%'\n",
    "\n",
    "In SQLite you use: \n",
    "\n",
    "WHERE value GLOB '[charlist]*'"
   ]
  },
  {
   "cell_type": "code",
   "execution_count": null,
   "metadata": {
    "collapsed": false
   },
   "outputs": [],
   "source": []
  },
  {
   "cell_type": "markdown",
   "metadata": {},
   "source": [
    "SQL ORDER BY\n",
    "The ORDER BY keyword is used to sort the result-set by one or more columns. The ORDER BY keyword sorts the records in ascending order by default. To sort the records in a descending order, you can use the DESC keyword. The syntax is:\n",
    "SELECT column_name \n",
    "FROM table_name\n",
    "ORDER BY column_name ASC|DESC\n",
    "Let's see it in action:"
   ]
  },
  {
   "cell_type": "code",
   "execution_count": null,
   "metadata": {
    "collapsed": false
   },
   "outputs": [],
   "source": []
  },
  {
   "cell_type": "code",
   "execution_count": null,
   "metadata": {
    "collapsed": false
   },
   "outputs": [],
   "source": []
  },
  {
   "cell_type": "markdown",
   "metadata": {},
   "source": [
    "## SQL GROUP BY \n",
    "\n",
    "The GROUP BY statement is used with the aggregate functions to group the results by one or more columns. The syntax is:\n",
    "\n",
    "SELECT column_name, aggregate_function(column_name) <br/>\n",
    "FROM table_name <br/>\n",
    "WHERE column_name operator value <br/>\n",
    "GROUP BY column_name; \n",
    "\n",
    "Let's see how it works."
   ]
  },
  {
   "cell_type": "code",
   "execution_count": null,
   "metadata": {
    "collapsed": false
   },
   "outputs": [],
   "source": []
  }
 ],
 "metadata": {
  "kernelspec": {
   "display_name": "Python 2",
   "language": "python",
   "name": "python2"
  },
  "language_info": {
   "codemirror_mode": {
    "name": "ipython",
    "version": 2
   },
   "file_extension": ".py",
   "mimetype": "text/x-python",
   "name": "python",
   "nbconvert_exporter": "python",
   "pygments_lexer": "ipython2",
   "version": "2.7.11"
  }
 },
 "nbformat": 4,
 "nbformat_minor": 0
}
